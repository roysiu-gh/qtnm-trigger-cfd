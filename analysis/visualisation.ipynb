{
 "cells": [
  {
   "cell_type": "code",
   "execution_count": 1,
   "id": "96be2ec5-8171-4b0c-af71-e0c82b7bdc9c",
   "metadata": {},
   "outputs": [],
   "source": [
    "%matplotlib ipympl\n",
    "\n",
    "import numpy as np\n",
    "import pandas as pd\n",
    "import matplotlib.pyplot as plt\n",
    "import seaborn as sb\n",
    "\n",
    "from IPython.display import display\n",
    "from ipywidgets import interactive\n",
    "import ipywidgets as widgets\n",
    "from ipywidgets import interact, interactive, fixed, interact_manual\n",
    "\n",
    "# Import own code\n",
    "from default_constants import *\n",
    "from interactive_trigger_class import InteractiveTrigger\n",
    "\n",
    "sb.set()\n",
    "# pp = pprint.PrettyPrinter(indent=4)\n",
    "\n",
    "SN1 = \"../data/SN1_Chirp_300kHzTemplate_0p16SNR_280Start_Sig.npy\"  # Nasty noise\n",
    "SN2 = \"../data/SN2_Chirp_300kHzTemplate_0p32SNR_280Start_Sig.npy\"  # Nice noise\n",
    "SX1 = \"../data/SX1_ChirpSig_ChirpTemplate_325p5kHz_3p45e8Grad_1024pt_99mV.npy\"\n",
    "SX2 = \"../data/SX2_ChirpSig_ChirpTemplate_325p5kHz_3p45e8Grad_1024pt_132mV.npy\"\n",
    "SX3 = \"../data/SX3_ChirpSig_ChirpTemplate_325p5kHz_3p45e8Grad_1024pt_264mV.npy\"\n",
    "XN1 = \"../data/XN1_Chirp_300kHzTemplate_0p16SNR_280Start_Noise.npy\"\n",
    "XN2 = \"../data/XN2_Chirp_300kHzTemplate_0p32SNR_280Start_Noise.npy\"\n"
   ]
  },
  {
   "cell_type": "code",
   "execution_count": 2,
   "id": "f9488a8c-6958-408b-a6f0-b2d2560969cb",
   "metadata": {},
   "outputs": [],
   "source": [
    "data = {}\n",
    "# data[\"SN1\"] = np.array(list( zip(*np.load(SN1)) ))\n",
    "# data[\"SN2\"] = np.array(list( zip(*np.load(SN2)) ))\n",
    "data[\"SX1\"] = np.array(list( zip(*np.load(SX1)) ))\n",
    "# data[\"SX2\"] = np.array(list( zip(*np.load(SX2)) ))\n",
    "# data[\"SX3\"] = np.array(list( zip(*np.load(SX3)) ))\n",
    "# data[\"XN1\"] = np.array(list( zip(*np.load(XN1)) ))\n",
    "# data[\"XN2\"] = np.array(list( zip(*np.load(XN2)) ))\n",
    "\n",
    "df = pd.read_csv(\"../data/SX1+XN1.csv\")\n",
    "data[\"SX1+XN1\"] = [df.t, df.signal]\n",
    "df = pd.read_csv(\"../data/SX1+XN2.csv\")\n",
    "data[\"SX1+XN2\"] = [df.t, df.signal]\n",
    "\n",
    "SX1_truth_data_df = pd.read_csv(\"../data/SX1_truth_data.csv\")\n",
    "SX1_truth_data = SX1_truth_data_df.truth_data\n"
   ]
  },
  {
   "cell_type": "code",
   "execution_count": 3,
   "id": "f792b3ca-1f63-4afd-aa4c-05f40300e17b",
   "metadata": {},
   "outputs": [
    {
     "name": "stderr",
     "output_type": "stream",
     "text": [
      "C:\\Users\\roysi\\AppData\\Local\\Programs\\Python\\Python311\\Lib\\site-packages\\numba\\core\\ir_utils.py:2149: NumbaPendingDeprecationWarning: \u001b[1m\n",
      "Encountered the use of a type that is scheduled for deprecation: type 'reflected list' found for argument 'x_all' of function 'lp_filter'.\n",
      "\n",
      "For more information visit https://numba.readthedocs.io/en/stable/reference/deprecation.html#deprecation-of-reflection-for-list-and-set-types\n",
      "\u001b[1m\n",
      "File \"algorithms.py\", line 41:\u001b[0m\n",
      "\u001b[1m# @make_typed\n",
      "\u001b[1mdef lp_filter(x_all, DECAY_FULL_POWER=10, DECAY_PART=900):\n",
      "\u001b[0m\u001b[1m^\u001b[0m\u001b[0m\n",
      "\u001b[0m\n",
      "  warnings.warn(NumbaPendingDeprecationWarning(msg, loc=loc))\n"
     ]
    },
    {
     "data": {
      "application/vnd.jupyter.widget-view+json": {
       "model_id": "f0c0433b38434d8c8f31af35b2fc6c78",
       "version_major": 2,
       "version_minor": 0
      },
      "text/plain": [
       "interactive(children=(IntSlider(value=100, description='delay_samples', max=300, step=10), FloatSlider(value=3…"
      ]
     },
     "metadata": {},
     "output_type": "display_data"
    }
   ],
   "source": [
    "image1 = InteractiveTrigger(\n",
    "        data = data[\"SX1\"],\n",
    "        truth_data = SX1_truth_data,\n",
    "        title = \"SX1 with SX1 truth data\",\n",
    "        slice_start = 0,\n",
    "        slice_end = 6000,\n",
    "    )\n",
    "\n",
    "image1.show()\n"
   ]
  },
  {
   "cell_type": "code",
   "execution_count": 4,
   "id": "0a4a0175-2358-4436-b43a-838006c83fc6",
   "metadata": {},
   "outputs": [],
   "source": [
    "# image2 = InteractiveTrigger(\n",
    "#         data[\"SX1+XN2\"],\n",
    "#         truth_data = SX1_truth_data,\n",
    "#         title = \"SX1+XN2 with SX1 truth data\",\n",
    "#         slice_start=0,\n",
    "#         slice_end=5000,\n",
    "#     )\n",
    "\n",
    "# image2.show()\n"
   ]
  }
 ],
 "metadata": {
  "kernelspec": {
   "display_name": "Python 3 (ipykernel)",
   "language": "python",
   "name": "python3"
  },
  "language_info": {
   "codemirror_mode": {
    "name": "ipython",
    "version": 3
   },
   "file_extension": ".py",
   "mimetype": "text/x-python",
   "name": "python",
   "nbconvert_exporter": "python",
   "pygments_lexer": "ipython3",
   "version": "3.11.4"
  }
 },
 "nbformat": 4,
 "nbformat_minor": 5
}
