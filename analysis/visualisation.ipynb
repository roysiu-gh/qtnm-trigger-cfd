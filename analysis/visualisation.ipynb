{
 "cells": [
  {
   "cell_type": "code",
   "execution_count": 1,
   "id": "96be2ec5-8171-4b0c-af71-e0c82b7bdc9c",
   "metadata": {},
   "outputs": [],
   "source": [
    "# %matplotlib inline\n",
    "# %matplotlib notebook\n",
    "%matplotlib ipympl\n",
    "# %matplotlib widget\n",
    "\n",
    "import numpy as np\n",
    "import seaborn as sb\n",
    "\n",
    "from IPython.display import display\n",
    "from ipywidgets import interactive\n",
    "import ipywidgets as widgets\n",
    "from ipywidgets import interact, interactive, fixed, interact_manual\n",
    "\n",
    "# Import own code\n",
    "from default_constants import *\n",
    "from algorithms import zero_detector2\n",
    "# from signal_data_class import *\n",
    "from interactive_trigger_class import InteractiveTrigger\n",
    "# from plot_data import *\n",
    "\n",
    "sb.set()\n",
    "# pp = pprint.PrettyPrinter(indent=4)\n",
    "\n",
    "SN1 = \"../data/SN1_Chirp_300kHzTemplate_0p16SNR_280Start_Sig.npy\"  # Nasty noise\n",
    "SN2 = \"../data/SN2_Chirp_300kHzTemplate_0p32SNR_280Start_Sig.npy\"  # Nice noise\n",
    "SX1 = \"../data/SX1_ChirpSig_ChirpTemplate_325p5kHz_3p45e8Grad_1024pt_99mV.npy\"\n",
    "SX2 = \"../data/SX2_ChirpSig_ChirpTemplate_325p5kHz_3p45e8Grad_1024pt_132mV.npy\"\n",
    "SX3 = \"../data/SX3_ChirpSig_ChirpTemplate_325p5kHz_3p45e8Grad_1024pt_264mV.npy\"\n",
    "XN1 = \"../data/XN1_Chirp_300kHzTemplate_0p16SNR_280Start_Noise.npy\"\n",
    "XN2 = \"../data/XN2_Chirp_300kHzTemplate_0p32SNR_280Start_Noise.npy\"\n"
   ]
  },
  {
   "cell_type": "code",
   "execution_count": 2,
   "id": "f9488a8c-6958-408b-a6f0-b2d2560969cb",
   "metadata": {},
   "outputs": [],
   "source": [
    "data = {}\n",
    "# data[\"SN1\"] = np.array(list( zip(*np.load(SN1)) ))\n",
    "# data[\"SN2\"] = np.array(list( zip(*np.load(SN2)) ))\n",
    "data[\"SX1\"] = np.array(list( zip(*np.load(SX1)) ))\n",
    "# data[\"SX2\"] = np.array(list( zip(*np.load(SX2)) ))\n",
    "# data[\"SX3\"] = np.array(list( zip(*np.load(SX3)) ))\n",
    "data[\"XN1\"] = np.array(list( zip(*np.load(XN1)) ))\n",
    "data[\"XN2\"] = np.array(list( zip(*np.load(XN2)) ))\n"
   ]
  },
  {
   "cell_type": "code",
   "execution_count": 3,
   "id": "f792b3ca-1f63-4afd-aa4c-05f40300e17b",
   "metadata": {},
   "outputs": [
    {
     "name": "stderr",
     "output_type": "stream",
     "text": [
      "C:\\Users\\roysi\\AppData\\Local\\Programs\\Python\\Python311\\Lib\\site-packages\\numba\\core\\ir_utils.py:2149: NumbaPendingDeprecationWarning: \u001b[1m\n",
      "Encountered the use of a type that is scheduled for deprecation: type 'reflected list' found for argument 'x_all' of function 'LP_filt'.\n",
      "\n",
      "For more information visit https://numba.readthedocs.io/en/stable/reference/deprecation.html#deprecation-of-reflection-for-list-and-set-types\n",
      "\u001b[1m\n",
      "File \"algorithms.py\", line 12:\u001b[0m\n",
      "\u001b[1m# @make_typed\n",
      "\u001b[1mdef LP_filt(x_all, DECAY_FULL_POWER=10, DECAY_PART=900):\n",
      "\u001b[0m\u001b[1m^\u001b[0m\u001b[0m\n",
      "\u001b[0m\n",
      "  warnings.warn(NumbaPendingDeprecationWarning(msg, loc=loc))\n"
     ]
    },
    {
     "data": {
      "application/vnd.jupyter.widget-view+json": {
       "model_id": "5bee9e2899cf4ad7af80391c013061c7",
       "version_major": 2,
       "version_minor": 0
      },
      "text/plain": [
       "interactive(children=(IntSlider(value=100, description='delay_samples', max=300), FloatSlider(value=3.7, descr…"
      ]
     },
     "metadata": {},
     "output_type": "display_data"
    },
    {
     "data": {
      "text/plain": [
       "<function ipywidgets.widgets.interaction._InteractFactory.__call__.<locals>.<lambda>(*args, **kwargs)>"
      ]
     },
     "execution_count": 3,
     "metadata": {},
     "output_type": "execute_result"
    }
   ],
   "source": [
    "image1 = InteractiveTrigger(\n",
    "        data[\"SX1\"],\n",
    "        slice_start=0,\n",
    "        slice_end=3000,\n",
    "        zero_detector_alg=zero_detector2,\n",
    "    )\n",
    "\n",
    "interact(image1.update,\n",
    "      delay_samples=widgets.IntSlider(min=0, max=300, step=1, value=DELAY_SAMPLES), \n",
    "      inv_frac=widgets.FloatSlider(min=0, max=6, step=0.1, value=INV_FRAC)\n",
    "    )\n"
   ]
  }
 ],
 "metadata": {
  "kernelspec": {
   "display_name": "Python 3 (ipykernel)",
   "language": "python",
   "name": "python3"
  },
  "language_info": {
   "codemirror_mode": {
    "name": "ipython",
    "version": 3
   },
   "file_extension": ".py",
   "mimetype": "text/x-python",
   "name": "python",
   "nbconvert_exporter": "python",
   "pygments_lexer": "ipython3",
   "version": "3.11.4"
  }
 },
 "nbformat": 4,
 "nbformat_minor": 5
}
