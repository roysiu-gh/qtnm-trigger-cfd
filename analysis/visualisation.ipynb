{
 "cells": [
  {
   "cell_type": "code",
   "execution_count": 1,
   "id": "96be2ec5-8171-4b0c-af71-e0c82b7bdc9c",
   "metadata": {},
   "outputs": [],
   "source": [
    "%matplotlib ipympl\n",
    "\n",
    "import numpy as np\n",
    "import pandas as pd\n",
    "import matplotlib.pyplot as plt\n",
    "import seaborn as sb\n",
    "\n",
    "# Import own code\n",
    "from interactive_trigger_class import InteractiveTrigger\n",
    "from algorithms import *\n",
    "\n",
    "sb.set()\n",
    "\n",
    "SN1 = \"../data/SN1_Chirp_300kHzTemplate_0p16SNR_280Start_Sig.npy\"  # Nasty noise\n",
    "SN2 = \"../data/SN2_Chirp_300kHzTemplate_0p32SNR_280Start_Sig.npy\"  # Nice noise\n",
    "SX1 = \"../data/SX1_ChirpSig_ChirpTemplate_325p5kHz_3p45e8Grad_1024pt_99mV.npy\"\n",
    "SX2 = \"../data/SX2_ChirpSig_ChirpTemplate_325p5kHz_3p45e8Grad_1024pt_132mV.npy\"\n",
    "SX3 = \"../data/SX3_ChirpSig_ChirpTemplate_325p5kHz_3p45e8Grad_1024pt_264mV.npy\"\n",
    "XN1 = \"../data/XN1_Chirp_300kHzTemplate_0p16SNR_280Start_Noise.npy\"\n",
    "XN2 = \"../data/XN2_Chirp_300kHzTemplate_0p32SNR_280Start_Noise.npy\"\n"
   ]
  },
  {
   "cell_type": "code",
   "execution_count": 2,
   "id": "2b1f7727-320c-43c4-a01a-8f8da8a4a744",
   "metadata": {},
   "outputs": [
    {
     "data": {
      "text/plain": [
       "[2, 6, 10, 14, 18]"
      ]
     },
     "execution_count": 2,
     "metadata": {},
     "output_type": "execute_result"
    }
   ],
   "source": [
    "lis = np.arange(2, 20, 4)\n",
    "list(cfd(lis))\n"
   ]
  },
  {
   "cell_type": "code",
   "execution_count": null,
   "id": "f9488a8c-6958-408b-a6f0-b2d2560969cb",
   "metadata": {},
   "outputs": [],
   "source": [
    "data = {}\n",
    "# data[\"SN1\"] = np.array(list( zip(*np.load(SN1)) ))\n",
    "data[\"SN2\"] = np.array(list( zip(*np.load(SN2)) ))\n",
    "data[\"SX1\"] = np.array(list( zip(*np.load(SX1)) ))\n",
    "# data[\"SX2\"] = np.array(list( zip(*np.load(SX2)) ))\n",
    "# data[\"SX3\"] = np.array(list( zip(*np.load(SX3)) ))\n",
    "# data[\"XN1\"] = np.array(list( zip(*np.load(XN1)) ))\n",
    "data[\"XN2\"] = np.array(list( zip(*np.load(XN2)) ))\n",
    "\n",
    "# df = pd.read_csv(\"../data/SX1+XN1.csv\")\n",
    "# data[\"SX1+XN1\"] = [df.t, df.signal]\n",
    "df = pd.read_csv(\"../data/SX1+XN2.csv\")\n",
    "data[\"SX1+XN2\"] = [df.t, df.signal]\n",
    "\n",
    "SX1_truth_data_df = pd.read_csv(\"../data/SX1_truth_data.csv\")\n",
    "SX1_truth_data = SX1_truth_data_df.truth_data\n"
   ]
  },
  {
   "cell_type": "code",
   "execution_count": null,
   "id": "f792b3ca-1f63-4afd-aa4c-05f40300e17b",
   "metadata": {},
   "outputs": [],
   "source": [
    "image1 = InteractiveTrigger(\n",
    "        *data[\"SX1\"],\n",
    "        truth_data = SX1_truth_data,\n",
    "        title = \"SX1 with SX1 truth data\",\n",
    "        tolerance = 300e-6,\n",
    "        slice_end = 30_000,\n",
    "    )\n",
    "image1.show()\n"
   ]
  },
  {
   "cell_type": "code",
   "execution_count": null,
   "id": "0a4a0175-2358-4436-b43a-838006c83fc6",
   "metadata": {},
   "outputs": [],
   "source": [
    "image2 = InteractiveTrigger(\n",
    "        *data[\"SX1+XN2\"],\n",
    "        truth_data = SX1_truth_data,\n",
    "        title = \"SX1+XN2 with SX1 truth data, LP IIR filter\",\n",
    "        tolerance = 300e-6,\n",
    "        slice_end = 30_000,\n",
    "    )\n",
    "image2.show()\n"
   ]
  },
  {
   "cell_type": "code",
   "execution_count": null,
   "id": "92265749-e7c6-4c1c-9213-dcd44ebd800c",
   "metadata": {},
   "outputs": [],
   "source": [
    "image2_2 = InteractiveTrigger(\n",
    "        *data[\"SX1+XN2\"],\n",
    "        truth_data = SX1_truth_data,\n",
    "        filter_alg = sma_convolve_extracted,\n",
    "        title = \"SX1+XN2 with SX1 truth data, SMA filter\",\n",
    "        tolerance = 300e-6,\n",
    "        slice_end = 30_000,\n",
    "    )\n",
    "image2_2.show()\n"
   ]
  },
  {
   "cell_type": "code",
   "execution_count": null,
   "id": "7e8c9e6d-a32e-4d18-959d-a731a547eb4b",
   "metadata": {},
   "outputs": [],
   "source": [
    "image2_3 = InteractiveTrigger(\n",
    "        *data[\"SX1+XN2\"],\n",
    "        truth_data = SX1_truth_data,\n",
    "        filter_alg = wma_linear_convolve_extracted,\n",
    "        title = \"SX1+XN2 with SX1 truth data, WMA linear filter\",\n",
    "        tolerance = 300e-6,\n",
    "        slice_end = 30_000,\n",
    "    )\n",
    "image2_3.show()\n"
   ]
  },
  {
   "cell_type": "code",
   "execution_count": null,
   "id": "2862e757-7b57-43af-a2a2-c6cf5c366d83",
   "metadata": {},
   "outputs": [],
   "source": [
    "image2_4 = InteractiveTrigger(\n",
    "        *data[\"SX1+XN2\"],\n",
    "        truth_data = SX1_truth_data,\n",
    "        filter_alg = ema_convolve_extracted,\n",
    "        title = \"SX1+XN2 with SX1 truth data, EMA filter\",\n",
    "        tolerance = 300e-6,\n",
    "        slice_end = 30_000,\n",
    "    )\n",
    "image2_4.show()\n"
   ]
  },
  {
   "cell_type": "code",
   "execution_count": null,
   "id": "286c0a01-1b3d-4404-bddf-046fb2e589f5",
   "metadata": {},
   "outputs": [],
   "source": [
    "image3 = InteractiveTrigger(\n",
    "        *data[\"XN2\"],\n",
    "        title = \"XN2 noise only, 0.32 SNR\",\n",
    "        inv_frac = 3,\n",
    "        # filter_alg = lp_filter_iir_wrapper(DECAY_FULL_POWER=10, DECAY_PART=990),\n",
    "        # tolerance = 300e-6,\n",
    "        slice_end = 30_000,\n",
    "    )\n",
    "image3.show()\n"
   ]
  },
  {
   "cell_type": "raw",
   "id": "43ff2813-fd16-4642-adf0-0de068e9bf06",
   "metadata": {},
   "source": [
    "image4 = InteractiveTrigger(\n",
    "        *data[\"SN2\"],\n",
    "        title = \"SN2 signal with noise, 0.32 SNR\",\n",
    "        inv_frac = 3,\n",
    "        # filter_alg = lp_filter_iir_wrapper(DECAY_FULL_POWER=10, DECAY_PART=990),\n",
    "        # tolerance = 300e-6,\n",
    "        slice_end = 30_000,\n",
    "    )\n",
    "image4.show()\n"
   ]
  }
 ],
 "metadata": {
  "kernelspec": {
   "display_name": "Python 3 (ipykernel)",
   "language": "python",
   "name": "python3"
  },
  "language_info": {
   "codemirror_mode": {
    "name": "ipython",
    "version": 3
   },
   "file_extension": ".py",
   "mimetype": "text/x-python",
   "name": "python",
   "nbconvert_exporter": "python",
   "pygments_lexer": "ipython3",
   "version": "3.11.4"
  }
 },
 "nbformat": 4,
 "nbformat_minor": 5
}
