{
 "cells": [
  {
   "cell_type": "code",
   "execution_count": 1,
   "id": "1745e1f8-323e-4e6c-af60-c3d3f59e4dbe",
   "metadata": {},
   "outputs": [],
   "source": [
    "import numpy as np\n",
    "import pandas as pd\n",
    "import matplotlib.pyplot as plt\n",
    "import seaborn as sb\n",
    "\n",
    "sb.set()\n",
    "\n",
    "SX1 = \"../data/SX1_ChirpSig_ChirpTemplate_325p5kHz_3p45e8Grad_1024pt_99mV.npy\"\n",
    "\n",
    "data = {}\n",
    "data[\"SX1\"] = np.array(list( zip(*np.load(SX1)) ))\n"
   ]
  },
  {
   "cell_type": "code",
   "execution_count": 2,
   "id": "4a4204f3-ba2e-42e2-9e89-ad479c324c1a",
   "metadata": {},
   "outputs": [
    {
     "name": "stdout",
     "output_type": "stream",
     "text": [
      "sample_spacing 1e-06\n",
      "pulse_spacing 0.002 (2ms)\n",
      "\n",
      "samples_per_chirp: 2000\n",
      "samples: 1006484\n",
      "chirp_no: 503.242\n",
      "samples_trunc: 1006000\n",
      "chirp_no_trunc: 503\n",
      "\n",
      "mean: 1594\n",
      "Lengths match?: True\n",
      "Done\n"
     ]
    },
    {
     "data": {
      "image/png": "[encoded data removed]",
      "text/plain": [
       "<Figure size 640x480 with 1 Axes>"
      ]
     },
     "metadata": {},
     "output_type": "display_data"
    }
   ],
   "source": [
    "# Create truth data for SX1\n",
    "\n",
    "# Find position of chirp per cycle\n",
    "\n",
    "t = data[\"SX1\"][0]\n",
    "sig = data[\"SX1\"][1]\n",
    "\n",
    "sample_spacing = 1e-6\n",
    "pulse_spacing = 2e-3  # 2ms\n",
    "print(\"sample_spacing\", sample_spacing)\n",
    "print(\"pulse_spacing\", pulse_spacing, \"(2ms)\")\n",
    "print()\n",
    "\n",
    "samples_per_chirp = int(pulse_spacing / sample_spacing)\n",
    "samples = len(t)\n",
    "chirp_no = samples / samples_per_chirp\n",
    "\n",
    "print(\"samples_per_chirp:\", samples_per_chirp)\n",
    "print(\"samples:\", samples)\n",
    "print(\"chirp_no:\", chirp_no)\n",
    "\n",
    "samples_trunc = samples - (samples % samples_per_chirp)\n",
    "chirp_no_trunc = samples_trunc // samples_per_chirp\n",
    "print(\"samples_trunc:\", samples_trunc)\n",
    "print(\"chirp_no_trunc:\", chirp_no_trunc)\n",
    "\n",
    "t_trunc = t[:samples_trunc]\n",
    "sig_trunc = sig[:samples_trunc]\n",
    "\n",
    "chirp_sections = []\n",
    "for i in range(chirp_no_trunc-1):\n",
    "    section_start = samples_per_chirp * i\n",
    "    section_end = samples_per_chirp * (i + 1)\n",
    "    t_section = t[section_start:section_end]\n",
    "    sig_section = sig[section_start:section_end]\n",
    "    chirp_section = (t_section, sig_section)\n",
    "    chirp_sections.append(chirp_section)\n",
    "\n",
    "tops = []\n",
    "for t_section, sig_section in chirp_sections:\n",
    "    max_idx = np.argmax(sig_section)\n",
    "    tops.append(max_idx)\n",
    "\n",
    "print()\n",
    "mean = int(np.mean((tops)))\n",
    "print(\"mean:\", mean)\n",
    "\n",
    "fig, axis = plt.subplots()\n",
    "axis.hist(tops, bins=\"auto\")\n",
    "\n",
    "# Create truth data\n",
    "SX1_truth_data = np.zeros(1006484)\n",
    "for i in range(chirp_no_trunc):\n",
    "    idx_of_chirp = samples_per_chirp * i + mean\n",
    "    SX1_truth_data[idx_of_chirp] = True\n",
    "\n",
    "print(\"Lengths match?:\", len(t) == len(SX1_truth_data) )\n",
    "\n",
    "\n",
    "# Write to file\n",
    "to_write = pd.DataFrame()\n",
    "to_write[\"t\"] = t\n",
    "to_write[\"truth_data\"] = SX1_truth_data\n",
    "to_write.to_csv(\"../data/SX1_truth_data.csv\")\n",
    "print(\"Done\")\n"
   ]
  }
 ],
 "metadata": {
  "kernelspec": {
   "display_name": "Python 3 (ipykernel)",
   "language": "python",
   "name": "python3"
  },
  "language_info": {
   "codemirror_mode": {
    "name": "ipython",
    "version": 3
   },
   "file_extension": ".py",
   "mimetype": "text/x-python",
   "name": "python",
   "nbconvert_exporter": "python",
   "pygments_lexer": "ipython3",
   "version": "3.11.4"
  }
 },
 "nbformat": 4,
 "nbformat_minor": 5
}
